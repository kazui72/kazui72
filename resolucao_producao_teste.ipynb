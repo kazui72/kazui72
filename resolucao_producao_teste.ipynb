{
  "nbformat": 4,
  "nbformat_minor": 0,
  "metadata": {
    "colab": {
      "provenance": [],
      "authorship_tag": "ABX9TyPCroPssDjkb/6r/CjZBOuP",
      "include_colab_link": true
    },
    "kernelspec": {
      "name": "python3",
      "display_name": "Python 3"
    },
    "language_info": {
      "name": "python"
    }
  },
  "cells": [
    {
      "cell_type": "markdown",
      "metadata": {
        "id": "view-in-github",
        "colab_type": "text"
      },
      "source": [
        "<a href=\"https://colab.research.google.com/github/kazui72/kazui72/blob/main/resolucao_producao_teste.ipynb\" target=\"_parent\"><img src=\"https://colab.research.google.com/assets/colab-badge.svg\" alt=\"Open In Colab\"/></a>"
      ]
    },
    {
      "cell_type": "code",
      "execution_count": null,
      "metadata": {
        "colab": {
          "base_uri": "https://localhost:8080/"
        },
        "id": "8mZD7KNUkaeJ",
        "outputId": "d40f1a81-20e0-4d86-d323-2fe7e3bddb76"
      },
      "outputs": [
        {
          "output_type": "stream",
          "name": "stdout",
          "text": [
            "Collecting pulp\n",
            "  Downloading PuLP-2.7.0-py3-none-any.whl (14.3 MB)\n",
            "\u001b[?25l     \u001b[90m━━━━━━━━━━━━━━━━━━━━━━━━━━━━━━━━━━━━━━━━\u001b[0m \u001b[32m0.0/14.3 MB\u001b[0m \u001b[31m?\u001b[0m eta \u001b[36m-:--:--\u001b[0m\r\u001b[2K     \u001b[91m━━\u001b[0m\u001b[91m╸\u001b[0m\u001b[90m━━━━━━━━━━━━━━━━━━━━━━━━━━━━━━━━━━━━━\u001b[0m \u001b[32m1.0/14.3 MB\u001b[0m \u001b[31m29.1 MB/s\u001b[0m eta \u001b[36m0:00:01\u001b[0m\r\u001b[2K     \u001b[91m━━━━━━━━━━━━━━━━\u001b[0m\u001b[90m╺\u001b[0m\u001b[90m━━━━━━━━━━━━━━━━━━━━━━━\u001b[0m \u001b[32m5.8/14.3 MB\u001b[0m \u001b[31m84.1 MB/s\u001b[0m eta \u001b[36m0:00:01\u001b[0m\r\u001b[2K     \u001b[91m━━━━━━━━━━━━━━━━━━━━━━━━━━━━━━━━━━━━\u001b[0m\u001b[90m╺\u001b[0m\u001b[90m━━\u001b[0m \u001b[32m13.2/14.3 MB\u001b[0m \u001b[31m189.4 MB/s\u001b[0m eta \u001b[36m0:00:01\u001b[0m\r\u001b[2K     \u001b[91m━━━━━━━━━━━━━━━━━━━━━━━━━━━━━━━━━━━━━━\u001b[0m\u001b[91m╸\u001b[0m \u001b[32m14.2/14.3 MB\u001b[0m \u001b[31m203.8 MB/s\u001b[0m eta \u001b[36m0:00:01\u001b[0m\r\u001b[2K     \u001b[90m━━━━━━━━━━━━━━━━━━━━━━━━━━━━━━━━━━━━━━━\u001b[0m \u001b[32m14.3/14.3 MB\u001b[0m \u001b[31m114.1 MB/s\u001b[0m eta \u001b[36m0:00:00\u001b[0m\n",
            "\u001b[?25hInstalling collected packages: pulp\n",
            "Successfully installed pulp-2.7.0\n"
          ]
        }
      ],
      "source": [
        "# baixar a biblioteca necessaria\n",
        "!pip install pulp"
      ]
    },
    {
      "cell_type": "code",
      "source": [
        "# usar as funcoes especificas da biblioteca\n",
        "from pulp import *"
      ],
      "metadata": {
        "id": "TehgbHhKkeyo"
      },
      "execution_count": null,
      "outputs": []
    },
    {
      "cell_type": "code",
      "source": [
        "# definir o tipo de problema\n",
        "producao = LpProblem('producao',LpMinimize)"
      ],
      "metadata": {
        "id": "R_CivT_yk3DC"
      },
      "execution_count": null,
      "outputs": []
    },
    {
      "cell_type": "code",
      "source": [
        "x11 = LpVariable ('x11, lowBound = 0')\n",
        "x12 = LpVariable ('x12, lowBound = 0')\n",
        "x13 = LpVariable ('x13, lowBound = 0')\n",
        "x21 = LpVariable ('x21, lowBound = 0')\n",
        "x22 = LpVariable ('x22, lowBound = 0')\n",
        "x23 = LpVariable ('x23, lowBound = 0')\n",
        "x31 = LpVariable ('x31, lowBound = 0')\n",
        "x32 = LpVariable ('x32, lowBound = 0')\n",
        "x33 = LpVariable ('x33, lowBound = 0')\n",
        "x41 = LpVariable ('x41, lowBound = 0')\n",
        "x42 = LpVariable ('x42, lowBound = 0')\n",
        "x51 = LpVariable ('x51, lowBound = 0')\n",
        "x52 = LpVariable ('x52, lowBound = 0')"
      ],
      "metadata": {
        "id": "vLhbTxXIm3uH"
      },
      "execution_count": null,
      "outputs": []
    },
    {
      "cell_type": "code",
      "source": [
        "producao += 90*x11+62*x12+76*x13+82*x21+58*x22+70*x23+92*x31+64*x32+80*x33+84*x41+56*x42+86*x51+58*x52"
      ],
      "metadata": {
        "id": "TWe2A8GsnOAc"
      },
      "execution_count": null,
      "outputs": []
    },
    {
      "cell_type": "code",
      "source": [
        "producao += x11 + x12 + x13 <= 2000\n",
        "producao += x21 + x22 + x23 <= 3000\n",
        "producao += x31 + x32 + x33 <= 2000\n",
        "producao += x41 + x42 <= 3000\n",
        "producao += x51 + x52 <= 5000\n",
        "producao += x11 + x21 + x31 + x41 + x51 == 5000\n",
        "producao += x12 + x22 + x32 + x42 + x52 == 3000\n",
        "producao += x13 + x23 + x33 == 4000"
      ],
      "metadata": {
        "id": "l2nEdYjVrIKk"
      },
      "execution_count": null,
      "outputs": []
    },
    {
      "cell_type": "code",
      "source": [
        "producao"
      ],
      "metadata": {
        "colab": {
          "base_uri": "https://localhost:8080/"
        },
        "id": "TSYvvrKw5JUq",
        "outputId": "1668431b-7fea-4541-debf-e3dd65626094"
      },
      "execution_count": null,
      "outputs": [
        {
          "output_type": "execute_result",
          "data": {
            "text/plain": [
              "producao:\n",
              "MINIMIZE\n",
              "90*x11,_lowBound_=_0 + 62*x12,_lowBound_=_0 + 76*x13,_lowBound_=_0 + 82*x21,_lowBound_=_0 + 58*x22,_lowBound_=_0 + 70*x23,_lowBound_=_0 + 92*x31,_lowBound_=_0 + 64*x32,_lowBound_=_0 + 80*x33,_lowBound_=_0 + 84*x41,_lowBound_=_0 + 56*x42,_lowBound_=_0 + 86*x51,_lowBound_=_0 + 58*x52,_lowBound_=_0 + 0\n",
              "SUBJECT TO\n",
              "_C1: x11,_lowBound_=_0 + x12,_lowBound_=_0 + x13,_lowBound_=_0 <= 2000\n",
              "\n",
              "_C2: x21,_lowBound_=_0 + x22,_lowBound_=_0 + x23,_lowBound_=_0 <= 3000\n",
              "\n",
              "_C3: x31,_lowBound_=_0 + x32,_lowBound_=_0 + x33,_lowBound_=_0 <= 2000\n",
              "\n",
              "_C4: x41,_lowBound_=_0 + x42,_lowBound_=_0 <= 3000\n",
              "\n",
              "_C5: x51,_lowBound_=_0 + x52,_lowBound_=_0 <= 5000\n",
              "\n",
              "_C6: x11,_lowBound_=_0 + x21,_lowBound_=_0 + x31,_lowBound_=_0\n",
              " + x41,_lowBound_=_0 + x51,_lowBound_=_0 = 5000\n",
              "\n",
              "_C7: x12,_lowBound_=_0 + x22,_lowBound_=_0 + x32,_lowBound_=_0\n",
              " + x42,_lowBound_=_0 + x52,_lowBound_=_0 = 3000\n",
              "\n",
              "_C8: x13,_lowBound_=_0 + x23,_lowBound_=_0 + x33,_lowBound_=_0 = 4000\n",
              "\n",
              "VARIABLES\n",
              "x11,_lowBound_=_0 free Continuous\n",
              "x12,_lowBound_=_0 free Continuous\n",
              "x13,_lowBound_=_0 free Continuous\n",
              "x21,_lowBound_=_0 free Continuous\n",
              "x22,_lowBound_=_0 free Continuous\n",
              "x23,_lowBound_=_0 free Continuous\n",
              "x31,_lowBound_=_0 free Continuous\n",
              "x32,_lowBound_=_0 free Continuous\n",
              "x33,_lowBound_=_0 free Continuous\n",
              "x41,_lowBound_=_0 free Continuous\n",
              "x42,_lowBound_=_0 free Continuous\n",
              "x51,_lowBound_=_0 free Continuous\n",
              "x52,_lowBound_=_0 free Continuous"
            ]
          },
          "metadata": {},
          "execution_count": 20
        }
      ]
    },
    {
      "cell_type": "code",
      "source": [
        "producao.solve()"
      ],
      "metadata": {
        "colab": {
          "base_uri": "https://localhost:8080/"
        },
        "id": "CL7645BW6LTR",
        "outputId": "e9251c74-de05-406a-9f3e-52b6d4354e8b"
      },
      "execution_count": null,
      "outputs": [
        {
          "output_type": "execute_result",
          "data": {
            "text/plain": [
              "-2"
            ]
          },
          "metadata": {},
          "execution_count": 21
        }
      ]
    },
    {
      "cell_type": "code",
      "source": [],
      "metadata": {
        "id": "PUqw0vry6Vkh"
      },
      "execution_count": null,
      "outputs": []
    }
  ]
}